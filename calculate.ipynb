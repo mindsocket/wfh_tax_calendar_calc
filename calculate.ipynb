{
 "cells": [
  {
   "cell_type": "code",
   "execution_count": null,
   "metadata": {},
   "outputs": [],
   "source": [
    "%pip install recurring-ical-events"
   ]
  },
  {
   "cell_type": "markdown",
   "metadata": {},
   "source": [
    "This is a utility to calculate the \"work from home\" (WFH) hours for an individual based on a diary of calendar entries.\n",
    "\n",
    "Process:\n",
    "* Given a calendar ics file...\n",
    "* Read all of the entries for a given financial year (June to July)\n",
    "* Calculate the total hours of the entries and return it. This represents the total WFH hours"
   ]
  },
  {
   "cell_type": "code",
   "execution_count": null,
   "metadata": {},
   "outputs": [],
   "source": [
    "import datetime\n",
    "import recurring_ical_events\n",
    "import icalendar\n",
    "from pathlib import Path\n"
   ]
  },
  {
   "cell_type": "code",
   "execution_count": null,
   "metadata": {},
   "outputs": [],
   "source": [
    "rog_latest = './rog_current.ics'"
   ]
  },
  {
   "cell_type": "code",
   "execution_count": null,
   "metadata": {},
   "outputs": [],
   "source": [
    "def parse_ics(file):\n",
    "    calendar = icalendar.Calendar.from_ical(Path(file).read_bytes())\n",
    "    return calendar\n",
    "\n",
    "def get_events(calendar, start, end):\n",
    "    events = recurring_ical_events.of(calendar).between(start, end)\n",
    "    return events"
   ]
  },
  {
   "cell_type": "code",
   "execution_count": null,
   "metadata": {},
   "outputs": [],
   "source": [
    "calendar = parse_ics(rog_latest)"
   ]
  },
  {
   "cell_type": "code",
   "execution_count": null,
   "metadata": {},
   "outputs": [],
   "source": [
    "start_date = (2023, 7, 1)\n",
    "end_date = (2024, 6, 30)\n",
    "events = get_events(calendar, start=start_date, end=end_date)"
   ]
  },
  {
   "cell_type": "code",
   "execution_count": null,
   "metadata": {},
   "outputs": [],
   "source": [
    "from collections import Counter\n",
    "def analyse(events):\n",
    "    total_hours = 0\n",
    "    day_total_hours = Counter()\n",
    "    for event in events:\n",
    "        start = event[\"DTSTART\"].dt\n",
    "        end = event[\"DTEND\"].dt\n",
    "        date_part = start.date()\n",
    "        duration = end - start\n",
    "        if isinstance(duration, datetime.timedelta):\n",
    "            duration = duration.total_seconds() / 3600\n",
    "        else:\n",
    "            duration = 0\n",
    "\n",
    "        total_hours += duration\n",
    "        day_total_hours[start.date()] += duration\n",
    "    print(f\"Total hours: {total_hours} hours\")\n",
    "    print(f\"Total days: {len(day_total_hours)}\")\n",
    "    print(\"Daily hours breakdown:\")\n",
    "    for day, hours in sorted(day_total_hours.items()):\n",
    "        print(f\"{day}: {hours} hours\")"
   ]
  },
  {
   "cell_type": "code",
   "execution_count": null,
   "metadata": {},
   "outputs": [],
   "source": [
    "analyse(events)"
   ]
  },
  {
   "cell_type": "code",
   "execution_count": null,
   "metadata": {},
   "outputs": [],
   "source": [
    "carla_latest = './carla_current.ics' #symlink\n",
    "carla_calendar = parse_ics(carla_latest)\n",
    "carla_events = get_events(carla_calendar, start=start_date, end=end_date)\n",
    "analyse(carla_events)"
   ]
  },
  {
   "cell_type": "code",
   "execution_count": null,
   "metadata": {},
   "outputs": [],
   "source": []
  }
 ],
 "metadata": {
  "kernelspec": {
   "display_name": "base",
   "language": "python",
   "name": "python3"
  },
  "language_info": {
   "codemirror_mode": {
    "name": "ipython",
    "version": 3
   },
   "file_extension": ".py",
   "mimetype": "text/x-python",
   "name": "python",
   "nbconvert_exporter": "python",
   "pygments_lexer": "ipython3",
   "version": "3.11.11"
  }
 },
 "nbformat": 4,
 "nbformat_minor": 2
}
